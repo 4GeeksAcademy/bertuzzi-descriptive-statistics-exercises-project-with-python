{
    "cells": [
        {
            "cell_type": "markdown",
            "id": "ac622319",
            "metadata": {},
            "source": [
                "# Descriptive statistics problems"
            ]
        },
        {
            "cell_type": "markdown",
            "id": "5e0ab0d5",
            "metadata": {},
            "source": [
                "### Exercise 1\n",
                "\n",
                "We will use NumPy to obtain information to describe statistically.\n",
                "\n",
                "- Generate an array of 100 elements following a normal distribution.\n",
                "- Generate an array of 100 elements following a chi-square distribution with 3 degrees of freedom.\n",
                "- Calculate the main metrics and statistical measures that best describe the two vectors."
            ]
        },
        {
            "cell_type": "code",
            "execution_count": 17,
            "id": "34720ab6",
            "metadata": {},
            "outputs": [
                {
                    "name": "stdout",
                    "output_type": "stream",
                    "text": [
                        "{'Central Tendency': {'Mean (Normal)': np.float64(-0.06883932502645233), 'Mean (Chi-square)': np.float64(2.7774703494590467), 'Median (Normal)': np.float64(0.03274119647825373), 'Median (Chi-square)': np.float64(2.14879175709651), 'Mode (Normal)': np.float64(-0.034031836990074726), 'Mode (Chi-square)': np.float64(3.94862779054372)}, 'Position & Dispersion': {'Range (Normal)': np.float64(4.6364406804673655), 'Range (Chi-square)': np.float64(14.55781314628364), 'Variance (Normal)': np.float64(0.9911506012433323), 'Variance (Chi-square)': np.float64(5.551330572684701), 'Standard Deviation (Normal)': 0.9955654680850137, 'Standard Deviation (Chi-square)': 2.356126179279179}, 'Shape': {'Skewness (Normal)': np.float64(-0.31759815347372317), 'Skewness (Chi-square)': np.float64(1.9582464830371253), 'Kurtosis (Normal)': np.float64(-0.28992440345924564), 'Kurtosis (Chi-square)': np.float64(5.771459895024137)}}\n"
                    ]
                }
            ],
            "source": [
                "# TODO\n",
                "import numpy as np\n",
                "import statistics as stats\n",
                "from scipy.stats import skew, kurtosis\n",
                "\n",
                "norm_array = np.random.randn(100)\n",
                "chi_array = np.random.chisquare(3,100)\n",
                "\n",
                "# Central tendency\n",
                "mean_norm = stats.mean(norm_array)\n",
                "mean_chi = stats.mean(chi_array)\n",
                "median_norm = stats.median(norm_array)\n",
                "median_chi = stats.median(chi_array)\n",
                "mode_norm = stats.mode(norm_array)\n",
                "mode_chi = stats.mode(chi_array)\n",
                "\n",
                "# Position & Dispersion\n",
                "range_norm = max(norm_array) - min(norm_array)\n",
                "range_chi = max(chi_array) - min(chi_array)\n",
                "variance_norm = stats.variance(norm_array)\n",
                "variance_chi = stats.variance(chi_array)\n",
                "stdev_norm = stats.stdev(norm_array)\n",
                "stdev_chi = stats.stdev(chi_array)\n",
                "\n",
                "# Shape\n",
                "skew_norm = skew(norm_array)\n",
                "skew_chi = skew(chi_array)\n",
                "kurt_norm = kurtosis(norm_array)\n",
                "kurt_chi = kurtosis(chi_array)\n",
                "\n",
                "statistics_dict = {\n",
                "    \"Central Tendency\": {\n",
                "        \"Mean (Normal)\": mean_norm,\n",
                "        \"Mean (Chi-square)\": mean_chi,\n",
                "        \"Median (Normal)\": median_norm,\n",
                "        \"Median (Chi-square)\": median_chi,\n",
                "        \"Mode (Normal)\": mode_norm,\n",
                "        \"Mode (Chi-square)\": mode_chi,\n",
                "    },\n",
                "    \"Position & Dispersion\": {\n",
                "        \"Range (Normal)\": range_norm,\n",
                "        \"Range (Chi-square)\": range_chi,\n",
                "        \"Variance (Normal)\": variance_norm,\n",
                "        \"Variance (Chi-square)\": variance_chi,\n",
                "        \"Standard Deviation (Normal)\": stdev_norm,\n",
                "        \"Standard Deviation (Chi-square)\": stdev_chi,\n",
                "    },\n",
                "    \"Shape\": {\n",
                "        \"Skewness (Normal)\": skew_norm,\n",
                "        \"Skewness (Chi-square)\": skew_chi,\n",
                "        \"Kurtosis (Normal)\": kurt_norm,\n",
                "        \"Kurtosis (Chi-square)\": kurt_chi,\n",
                "    }\n",
                "}\n",
                "\n",
                "print(statistics_dict)"
            ]
        },
        {
            "cell_type": "markdown",
            "id": "46c70c3d",
            "metadata": {},
            "source": [
                "### Exercise 2\n",
                "\n",
                "Write a Python program to calculate the standard deviation of the following data:\n",
                "\n",
                "```py\n",
                "data = [4, 2, 5, 8, 6]\n",
                "```"
            ]
        },
        {
            "cell_type": "code",
            "execution_count": 19,
            "id": "d590308e",
            "metadata": {},
            "outputs": [
                {
                    "name": "stdout",
                    "output_type": "stream",
                    "text": [
                        "20\n",
                        "2.23606797749979\n",
                        "2.0\n",
                        "2.23606797749979\n"
                    ]
                }
            ],
            "source": [
                "# TODO\n",
                "import numpy as np\n",
                "import statistics as stats\n",
                "import math\n",
                "\n",
                "data = [4, 2, 5, 8, 6]\n",
                "\n",
                "# Manual method\n",
                "mean_value = stats.mean(data)\n",
                "differences = 0\n",
                "for x in data:\n",
                "    differences += (x - mean_value)**2\n",
                "print(differences)\n",
                "stdev_value = math.sqrt(differences/(len(data)-1))\n",
                "print(stdev_value)\n",
                "\n",
                "# Numpy method\n",
                "numpy_stdev = np.std(data)\n",
                "print(numpy_stdev)\n",
                "# Stats method\n",
                "stats_stdev = stats.stdev(data)\n",
                "print(stats_stdev)"
            ]
        }
    ],
    "metadata": {
        "kernelspec": {
            "display_name": "Python 3",
            "language": "python",
            "name": "python3"
        },
        "language_info": {
            "codemirror_mode": {
                "name": "ipython",
                "version": 3
            },
            "file_extension": ".py",
            "mimetype": "text/x-python",
            "name": "python",
            "nbconvert_exporter": "python",
            "pygments_lexer": "ipython3",
            "version": "3.11.4"
        }
    },
    "nbformat": 4,
    "nbformat_minor": 5
}
